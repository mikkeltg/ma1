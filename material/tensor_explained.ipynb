{
 "cells": [
  {
   "cell_type": "markdown",
   "metadata": {},
   "source": [
    "First, a bit of a hack in case your IDE wants to run the notebook from `/material/` and not the project root folder `/ma1`. We need the working directory to be `/ma1` for local imports to work."
   ]
  },
  {
   "cell_type": "code",
   "execution_count": 2,
   "metadata": {},
   "outputs": [
    {
     "name": "stdout",
     "output_type": "stream",
     "text": [
      "Working directory set to: /Users/mikkel/Library/CloudStorage/OneDrive-Personligt/CBS/Cand Merc IT/2. Semester/AI and ML/mas/ma1\n"
     ]
    }
   ],
   "source": [
    "import os\n",
    "from pathlib import Path\n",
    "\n",
    "# Ensure the working directory is set to the \"ma1\" folder.\n",
    "while Path.cwd().name != \"ma1\" and \"ma1\" in str(Path.cwd()):\n",
    "    os.chdir(\"..\")  # Move up one directory\n",
    "print(f\"Working directory set to: {Path.cwd()}\")"
   ]
  },
  {
   "cell_type": "markdown",
   "metadata": {},
   "source": [
    "***\n",
    "\n",
    "# Introduction to PyTorch Tensors\n",
    "\n",
    "<img src=\"../media/tensor.png\" width=\"500\"/>\n",
    "\n",
    "Tensors are the central data abstraction in PyTorch. This interactive\n",
    "notebook provides an in-depth introduction to the `torch.Tensor` class. You can also watch a video on it on \n",
    "[youtube](https://www.youtube.com/watch?v=r7QDUPb2dCM).\n",
    "\n",
    "First things first, let's import the PyTorch module. We'll also add\n",
    "Python's math module to facilitate some of the examples.\n"
   ]
  },
  {
   "cell_type": "code",
   "execution_count": 3,
   "metadata": {
    "collapsed": false
   },
   "outputs": [],
   "source": [
    "import torch\n",
    "import math"
   ]
  },
  {
   "cell_type": "markdown",
   "metadata": {},
   "source": [
    "### Creating Tensors\n",
    "\n",
    "The simplest way to create a tensor is with the `torch.empty()` call:\n"
   ]
  },
  {
   "cell_type": "code",
   "execution_count": 4,
   "metadata": {
    "collapsed": false
   },
   "outputs": [
    {
     "name": "stdout",
     "output_type": "stream",
     "text": [
      "<class 'torch.Tensor'>\n",
      "tensor([[0., 0., 0., 0.],\n",
      "        [0., 0., 0., 0.],\n",
      "        [0., 0., 0., 0.]])\n"
     ]
    }
   ],
   "source": [
    "x = torch.empty(3, 4)\n",
    "print(type(x))\n",
    "print(x)"
   ]
  },
  {
   "cell_type": "markdown",
   "metadata": {},
   "source": [
    "Let's unpack what we just did:\n",
    "\n",
    "-   We created a tensor using one of the numerous factory methods\n",
    "    attached to the `torch` module.\n",
    "-   The tensor itself is 2-dimensional, having 3 rows and 4 columns.\n",
    "-   The type of the object returned is `torch.Tensor`, which is an alias\n",
    "    for `torch.FloatTensor`; by default, PyTorch tensors are populated\n",
    "    with 32-bit floating point numbers. (More on data types below.)\n",
    "-   You will probably see some random-looking values when printing your\n",
    "    tensor. The `torch.empty()` call allocates memory for the tensor,\n",
    "    but does not initialize it with any values - so what you're seeing\n",
    "    is whatever was in memory at the time of allocation.\n",
    "\n",
    "A brief note about tensors and their number of dimensions, and\n",
    "terminology:\n",
    "\n",
    "-   You will sometimes see a 1-dimensional tensor called a *vector.*\n",
    "-   Likewise, a 2-dimensional tensor is often referred to as a *matrix.*\n",
    "-   Anything with more than two dimensions is generally just called a\n",
    "    tensor.\n",
    "\n",
    "More often than not, you'll want to initialize your tensor with some\n",
    "value. Common cases are all zeros, all ones, or random values, and the\n",
    "`torch` module provides factory methods for all of these:\n"
   ]
  },
  {
   "cell_type": "code",
   "execution_count": 5,
   "metadata": {
    "collapsed": false
   },
   "outputs": [
    {
     "name": "stdout",
     "output_type": "stream",
     "text": [
      "tensor([[0., 0., 0.],\n",
      "        [0., 0., 0.]])\n",
      "tensor([[1., 1., 1.],\n",
      "        [1., 1., 1.]])\n",
      "tensor([[0.3126, 0.3791, 0.3087],\n",
      "        [0.0736, 0.4216, 0.0691]])\n"
     ]
    }
   ],
   "source": [
    "zeros = torch.zeros(2, 3)\n",
    "print(zeros)\n",
    "\n",
    "ones = torch.ones(2, 3)\n",
    "print(ones)\n",
    "\n",
    "torch.manual_seed(1729)\n",
    "random = torch.rand(2, 3)\n",
    "print(random)"
   ]
  },
  {
   "cell_type": "markdown",
   "metadata": {},
   "source": [
    "The factory methods all do just what you'd expect - we have a tensor\n",
    "full of zeros, another full of ones, and another with random values\n",
    "between 0 and 1.\n",
    "\n",
    "### Random Tensors and Seeding\n",
    "\n",
    "Speaking of the random tensor, did you notice the call to\n",
    "`torch.manual_seed()` immediately preceding it? Initializing tensors,\n",
    "such as a model's learning weights, with random values is common but\n",
    "there are times - especially in research settings - where you'll want\n",
    "some assurance of the reproducibility of your results. Manually setting\n",
    "your random number generator's seed is the way to do this. Let's look\n",
    "more closely:\n"
   ]
  },
  {
   "cell_type": "code",
   "execution_count": 7,
   "metadata": {
    "collapsed": false
   },
   "outputs": [
    {
     "name": "stdout",
     "output_type": "stream",
     "text": [
      "tensor([[0.3126, 0.3791, 0.3087],\n",
      "        [0.0736, 0.4216, 0.0691]])\n",
      "tensor([[0.2332, 0.4047, 0.2162],\n",
      "        [0.9927, 0.4128, 0.5938]])\n",
      "tensor([[0.3126, 0.3791, 0.3087],\n",
      "        [0.0736, 0.4216, 0.0691]])\n",
      "tensor([[[0.2332, 0.4047, 0.2162, 0.9927],\n",
      "         [0.4128, 0.5938, 0.6128, 0.1519],\n",
      "         [0.0453, 0.5035, 0.9978, 0.3884]],\n",
      "\n",
      "        [[0.6929, 0.1703, 0.1384, 0.4759],\n",
      "         [0.7481, 0.0361, 0.5062, 0.8469],\n",
      "         [0.2588, 0.2707, 0.4115, 0.6839]]])\n"
     ]
    }
   ],
   "source": [
    "torch.manual_seed(1729)\n",
    "random1 = torch.rand(2, 3)\n",
    "print(random1)\n",
    "\n",
    "random2 = torch.rand(2, 3)\n",
    "print(random2)\n",
    "\n",
    "torch.manual_seed(1729)\n",
    "random3 = torch.rand(2, 3)\n",
    "print(random3)\n",
    "\n",
    "random4 = torch.rand(2,3,4)\n",
    "print(random4)"
   ]
  },
  {
   "cell_type": "markdown",
   "metadata": {},
   "source": [
    "What you should see above is that `random1` and `random3` carry\n",
    "identical values, as do `random2` and `random4`. Manually setting the\n",
    "RNG's seed resets it, so that identical computations depending on random\n",
    "number should, in most settings, provide identical results.\n",
    "\n",
    "For more information, see the [PyTorch documentation on\n",
    "reproducibility](https://pytorch.org/docs/stable/notes/randomness.html).\n",
    "\n",
    "### Tensor Shapes\n",
    "\n",
    "Often, when you're performing operations on two or more tensors, they\n",
    "will need to be of the same *shape* - that is, having the same number of\n",
    "dimensions and the same number of cells in each dimension. For that, we\n",
    "have the `torch.*_like()` methods:\n"
   ]
  },
  {
   "cell_type": "code",
   "execution_count": 4,
   "metadata": {
    "collapsed": false
   },
   "outputs": [
    {
     "name": "stdout",
     "output_type": "stream",
     "text": [
      "torch.Size([2, 2, 3])\n",
      "tensor([[[0., 0., 0.],\n",
      "         [0., 0., 0.]],\n",
      "\n",
      "        [[0., 0., 0.],\n",
      "         [0., 0., 0.]]])\n",
      "torch.Size([2, 2, 3])\n",
      "tensor([[[0., 0., 0.],\n",
      "         [0., 0., 0.]],\n",
      "\n",
      "        [[0., 0., 0.],\n",
      "         [0., 0., 0.]]])\n",
      "torch.Size([2, 2, 3])\n",
      "tensor([[[0., 0., 0.],\n",
      "         [0., 0., 0.]],\n",
      "\n",
      "        [[0., 0., 0.],\n",
      "         [0., 0., 0.]]])\n",
      "torch.Size([2, 2, 3])\n",
      "tensor([[[1., 1., 1.],\n",
      "         [1., 1., 1.]],\n",
      "\n",
      "        [[1., 1., 1.],\n",
      "         [1., 1., 1.]]])\n",
      "torch.Size([2, 2, 3])\n",
      "tensor([[[0.6128, 0.1519, 0.0453],\n",
      "         [0.5035, 0.9978, 0.3884]],\n",
      "\n",
      "        [[0.6929, 0.1703, 0.1384],\n",
      "         [0.4759, 0.7481, 0.0361]]])\n"
     ]
    }
   ],
   "source": [
    "x = torch.empty(2, 2, 3)\n",
    "print(x.shape)\n",
    "print(x)\n",
    "\n",
    "empty_like_x = torch.empty_like(x)\n",
    "print(empty_like_x.shape)\n",
    "print(empty_like_x)\n",
    "\n",
    "zeros_like_x = torch.zeros_like(x)\n",
    "print(zeros_like_x.shape)\n",
    "print(zeros_like_x)\n",
    "\n",
    "ones_like_x = torch.ones_like(x)\n",
    "print(ones_like_x.shape)\n",
    "print(ones_like_x)\n",
    "\n",
    "rand_like_x = torch.rand_like(x)\n",
    "print(rand_like_x.shape)\n",
    "print(rand_like_x)"
   ]
  },
  {
   "cell_type": "markdown",
   "metadata": {},
   "source": [
    "The first new thing in the code cell above is the use of the `.shape`\n",
    "property on a tensor. This property contains a list of the extent of\n",
    "each dimension of a tensor - in our case, `x` is a three-dimensional\n",
    "tensor with shape 2 x 2 x 3.\n",
    "\n",
    "Below that, we call the `.empty_like()`, `.zeros_like()`,\n",
    "`.ones_like()`, and `.rand_like()` methods. Using the `.shape` property,\n",
    "we can verify that each of these methods returns a tensor of identical\n",
    "dimensionality and extent.\n",
    "\n",
    "The last way to create a tensor that will cover is to specify its data\n",
    "directly from a PyTorch collection:\n"
   ]
  },
  {
   "cell_type": "code",
   "execution_count": 9,
   "metadata": {
    "collapsed": false
   },
   "outputs": [
    {
     "name": "stdout",
     "output_type": "stream",
     "text": [
      "tensor([[3.1416, 2.7183],\n",
      "        [1.6180, 0.0073]])\n",
      "tensor([ 2,  3,  5,  7, 11, 13, 17, 19])\n",
      "tensor([[2, 4, 6],\n",
      "        [3, 6, 9]])\n"
     ]
    }
   ],
   "source": [
    "some_constants = torch.tensor([[3.1415926, 2.71828], [1.61803, 0.0072897]])\n",
    "print(some_constants)\n",
    "\n",
    "some_integers = torch.tensor((2, 3, 5, 7, 11, 13, 17, 19))\n",
    "print(some_integers)\n",
    "\n",
    "more_integers = torch.tensor(((2, 4, 6), [3, 6, 9]))\n",
    "print(more_integers)"
   ]
  },
  {
   "cell_type": "markdown",
   "metadata": {},
   "source": [
    "Using `torch.tensor()` is the most straightforward way to create a\n",
    "tensor if you already have data in a Python tuple or list. As shown\n",
    "above, nesting the collections will result in a multi-dimensional\n",
    "tensor.\n",
    "\n",
    "<div style=\"background-color: #54c7ec; color: #fff; font-weight: 700; padding-left: 10px; padding-top: 5px; padding-bottom: 5px\"><strong>NOTE:</strong></div>\n",
    "\n",
    "<div style=\"background-color: #f3f4f7; padding-left: 10px; padding-top: 10px; padding-bottom: 10px; padding-right: 10px\">\n",
    "\n",
    "<p><code>torch.tensor()</code> creates a copy of the data.</p>\n",
    "\n",
    "</div>\n",
    "\n",
    "### Tensor Data Types\n",
    "\n",
    "Setting the datatype of a tensor is possible a couple of ways:\n"
   ]
  },
  {
   "cell_type": "code",
   "execution_count": 11,
   "metadata": {
    "collapsed": false
   },
   "outputs": [
    {
     "name": "stdout",
     "output_type": "stream",
     "text": [
      "tensor([[1, 1, 1],\n",
      "        [1, 1, 1]], dtype=torch.int16)\n",
      "tensor([[ 9.8370,  3.8937, 16.1945],\n",
      "        [12.3902, 15.0541, 16.8179]], dtype=torch.float64)\n",
      "tensor([[ 9,  3, 16],\n",
      "        [12, 15, 16]], dtype=torch.int32)\n"
     ]
    }
   ],
   "source": [
    "a = torch.ones(2, 3, dtype=torch.int16)\n",
    "print(a)\n",
    "\n",
    "b = torch.rand((2, 3), dtype=torch.float64) * 20.\n",
    "print(b)\n",
    "\n",
    "c = b.to(torch.int32)\n",
    "print(c)"
   ]
  },
  {
   "cell_type": "markdown",
   "metadata": {},
   "source": [
    "The simplest way to set the underlying data type of a tensor is with an\n",
    "optional argument at creation time. In the first line of the cell above,\n",
    "we set `dtype=torch.int16` for the tensor `a`. When we print `a`, we can\n",
    "see that it's full of `1` rather than `1.` - Python's subtle cue that\n",
    "this is an integer type rather than floating point.\n",
    "\n",
    "Another thing to notice about printing `a` is that, unlike when we left\n",
    "`dtype` as the default (32-bit floating point), printing the tensor also\n",
    "specifies its `dtype`.\n",
    "\n",
    "You may have also spotted that we went from specifying the tensor's\n",
    "shape as a series of integer arguments, to grouping those arguments in a\n",
    "tuple. This is not strictly necessary - PyTorch will take a series of\n",
    "initial, unlabeled integer arguments as a tensor shape - but when adding\n",
    "the optional arguments, it can make your intent more readable.\n",
    "\n",
    "The other way to set the datatype is with the `.to()` method. In the\n",
    "cell above, we create a random floating point tensor `b` in the usual\n",
    "way. Following that, we create `c` by converting `b` to a 32-bit integer\n",
    "with the `.to()` method. Note that `c` contains all the same values as\n",
    "`b`, but truncated to integers.\n",
    "\n",
    "For more information, see the [data types\n",
    "documentation](https://pytorch.org/docs/stable/tensor_attributes.html#torch.dtype).\n",
    "\n",
    "### Math & Logic with PyTorch Tensors\n",
    "\n",
    "Now that you know some of the ways to create a tensor... what can you do\n",
    "with them?\n",
    "\n",
    "Let's look at basic arithmetic first, and how tensors interact with\n",
    "simple scalars:\n"
   ]
  },
  {
   "cell_type": "code",
   "execution_count": 12,
   "metadata": {
    "collapsed": false
   },
   "outputs": [
    {
     "name": "stdout",
     "output_type": "stream",
     "text": [
      "tensor([[1., 1.],\n",
      "        [1., 1.]])\n",
      "tensor([[2., 2.],\n",
      "        [2., 2.]])\n",
      "tensor([[3., 3.],\n",
      "        [3., 3.]])\n",
      "tensor([[4., 4.],\n",
      "        [4., 4.]])\n",
      "tensor([[1.4142, 1.4142],\n",
      "        [1.4142, 1.4142]])\n"
     ]
    }
   ],
   "source": [
    "ones = torch.zeros(2, 2) + 1\n",
    "twos = torch.ones(2, 2) * 2\n",
    "threes = (torch.ones(2, 2) * 7 - 1) / 2\n",
    "fours = twos ** 2\n",
    "sqrt2s = twos ** 0.5\n",
    "\n",
    "print(ones)\n",
    "print(twos)\n",
    "print(threes)\n",
    "print(fours)\n",
    "print(sqrt2s)"
   ]
  },
  {
   "cell_type": "markdown",
   "metadata": {},
   "source": [
    "As you can see above, arithmetic operations between tensors and scalars,\n",
    "such as addition, subtraction, multiplication, division, and\n",
    "exponentiation are distributed over every element of the tensor. Because\n",
    "the output of such an operation will be a tensor, you can chain them\n",
    "together with the usual operator precedence rules, as in the line where\n",
    "we create `threes`.\n",
    "\n",
    "Similar operations between two tensors also behave like you'd\n",
    "intuitively expect:\n"
   ]
  },
  {
   "cell_type": "code",
   "execution_count": 13,
   "metadata": {
    "collapsed": false
   },
   "outputs": [
    {
     "name": "stdout",
     "output_type": "stream",
     "text": [
      "tensor([[ 2.,  4.],\n",
      "        [ 8., 16.]])\n",
      "tensor([[5., 5.],\n",
      "        [5., 5.]])\n",
      "tensor([[12., 12.],\n",
      "        [12., 12.]])\n"
     ]
    }
   ],
   "source": [
    "powers2 = twos ** torch.tensor([[1, 2], [3, 4]])\n",
    "print(powers2)\n",
    "\n",
    "fives = ones + fours\n",
    "print(fives)\n",
    "\n",
    "dozens = threes * fours\n",
    "print(dozens)"
   ]
  },
  {
   "cell_type": "markdown",
   "metadata": {},
   "source": [
    "It's important to note here that all of the tensors in the previous code\n",
    "cell were of identical shape. What happens when we try to perform a\n",
    "binary operation on tensors if dissimilar shape?\n",
    "\n",
    "<div style=\"background-color: #54c7ec; color: #fff; font-weight: 700; padding-left: 10px; padding-top: 5px; padding-bottom: 5px\"><strong>NOTE:</strong></div>\n",
    "\n",
    "<div style=\"background-color: #f3f4f7; padding-left: 10px; padding-top: 10px; padding-bottom: 10px; padding-right: 10px\">\n",
    "\n",
    "<p>The following cell throws a run-time error. This is intentional.<pre><code>a = torch.rand(2, 3)\n",
    "b = torch.rand(3, 2)</p>\n",
    "<p>print(a * b)</code></pre></p>\n",
    "\n",
    "</div>\n",
    "\n"
   ]
  },
  {
   "cell_type": "markdown",
   "metadata": {},
   "source": [
    "In the general case, you cannot operate on tensors of different shape\n",
    "this way, even in a case like the cell above, where the tensors have an\n",
    "identical number of elements.\n",
    "\n",
    "### In Brief: Tensor Broadcasting\n",
    "\n",
    "<div style=\"background-color: #54c7ec; color: #fff; font-weight: 700; padding-left: 10px; padding-top: 5px; padding-bottom: 5px\"><strong>NOTE:</strong></div>\n",
    "\n",
    "<div style=\"background-color: #f3f4f7; padding-left: 10px; padding-top: 10px; padding-bottom: 10px; padding-right: 10px\">\n",
    "\n",
    "<p>If you are familiar with broadcasting semantics in NumPyndarrays, you’ll find the same rules apply here.</p>\n",
    "\n",
    "</div>\n",
    "\n",
    "The exception to the same-shapes rule is *tensor broadcasting.* Here's\n",
    "an example:\n"
   ]
  },
  {
   "cell_type": "code",
   "execution_count": 14,
   "metadata": {
    "collapsed": false
   },
   "outputs": [
    {
     "name": "stdout",
     "output_type": "stream",
     "text": [
      "tensor([[0.7357, 0.0381, 0.2138, 0.5395],\n",
      "        [0.3686, 0.4007, 0.7220, 0.8217]])\n",
      "tensor([[1.4715, 0.0762, 0.4276, 1.0791],\n",
      "        [0.7371, 0.8014, 1.4439, 1.6434]])\n"
     ]
    }
   ],
   "source": [
    "rand = torch.rand(2, 4)\n",
    "doubled = rand * (torch.ones(1, 4) * 2)\n",
    "\n",
    "print(rand)\n",
    "print(doubled)"
   ]
  },
  {
   "cell_type": "markdown",
   "metadata": {},
   "source": [
    "What's the trick here? How is it we got to multiply a 2x4 tensor by a\n",
    "1x4 tensor?\n",
    "\n",
    "Broadcasting is a way to perform an operation between tensors that have\n",
    "similarities in their shapes. In the example above, the one-row,\n",
    "four-column tensor is multiplied by *both rows* of the two-row,\n",
    "four-column tensor.\n",
    "\n",
    "This is an important operation in Deep Learning. The common example is\n",
    "multiplying a tensor of learning weights by a *batch* of input tensors,\n",
    "applying the operation to each instance in the batch separately, and\n",
    "returning a tensor of identical shape - just like our (2, 4) \\* (1, 4)\n",
    "example above returned a tensor of shape (2, 4).\n",
    "\n",
    "The rules for broadcasting are:\n",
    "\n",
    "-   Each tensor must have at least one dimension - no empty tensors.\n",
    "-   Comparing the dimension sizes of the two tensors, *going from last\n",
    "    to first:*\n",
    "    -   Each dimension must be equal, *or*\n",
    "    -   One of the dimensions must be of size 1, *or*\n",
    "    -   The dimension does not exist in one of the tensors\n",
    "\n",
    "Tensors of identical shape, of course, are trivially \"broadcastable\", as\n",
    "you saw earlier.\n",
    "\n",
    "Here are some examples of situations that honor the above rules and\n",
    "allow broadcasting:\n"
   ]
  },
  {
   "cell_type": "code",
   "execution_count": 15,
   "metadata": {
    "collapsed": false
   },
   "outputs": [
    {
     "name": "stdout",
     "output_type": "stream",
     "text": [
      "tensor([[[0.2612, 0.7375],\n",
      "         [0.8328, 0.8444],\n",
      "         [0.2941, 0.3788]],\n",
      "\n",
      "        [[0.2612, 0.7375],\n",
      "         [0.8328, 0.8444],\n",
      "         [0.2941, 0.3788]],\n",
      "\n",
      "        [[0.2612, 0.7375],\n",
      "         [0.8328, 0.8444],\n",
      "         [0.2941, 0.3788]],\n",
      "\n",
      "        [[0.2612, 0.7375],\n",
      "         [0.8328, 0.8444],\n",
      "         [0.2941, 0.3788]]])\n",
      "tensor([[[0.4567, 0.4567],\n",
      "         [0.0649, 0.0649],\n",
      "         [0.6677, 0.6677]],\n",
      "\n",
      "        [[0.4567, 0.4567],\n",
      "         [0.0649, 0.0649],\n",
      "         [0.6677, 0.6677]],\n",
      "\n",
      "        [[0.4567, 0.4567],\n",
      "         [0.0649, 0.0649],\n",
      "         [0.6677, 0.6677]],\n",
      "\n",
      "        [[0.4567, 0.4567],\n",
      "         [0.0649, 0.0649],\n",
      "         [0.6677, 0.6677]]])\n",
      "tensor([[[0.7826, 0.1332],\n",
      "         [0.7826, 0.1332],\n",
      "         [0.7826, 0.1332]],\n",
      "\n",
      "        [[0.7826, 0.1332],\n",
      "         [0.7826, 0.1332],\n",
      "         [0.7826, 0.1332]],\n",
      "\n",
      "        [[0.7826, 0.1332],\n",
      "         [0.7826, 0.1332],\n",
      "         [0.7826, 0.1332]],\n",
      "\n",
      "        [[0.7826, 0.1332],\n",
      "         [0.7826, 0.1332],\n",
      "         [0.7826, 0.1332]]])\n"
     ]
    }
   ],
   "source": [
    "a = torch.ones(4, 3, 2)\n",
    "\n",
    "b = a * torch.rand(   3, 2) # 3rd & 2nd dims identical to a, dim 1 absent\n",
    "print(b)\n",
    "\n",
    "c = a * torch.rand(   3, 1) # 3rd dim = 1, 2nd dim identical to a\n",
    "print(c)\n",
    "\n",
    "d = a * torch.rand(   1, 2) # 3rd dim identical to a, 2nd dim = 1\n",
    "print(d)"
   ]
  },
  {
   "cell_type": "markdown",
   "metadata": {},
   "source": [
    "Look closely at the values of each tensor above:\n",
    "\n",
    "-   The multiplication operation that created `b` was broadcast over\n",
    "    every \"layer\" of `a`.\n",
    "-   For `c`, the operation was broadcast over every layer and row of\n",
    "    `a` - every 3-element column is identical.\n",
    "-   For `d`, we switched it around - now every *row* is identical,\n",
    "    across layers and columns.\n",
    "\n",
    "For more information on broadcasting, see the [PyTorch\n",
    "documentation](https://pytorch.org/docs/stable/notes/broadcasting.html)\n",
    "on the topic.\n",
    "\n",
    "Here are some examples of attempts at broadcasting that will fail:\n",
    "\n",
    "<div style=\"background-color: #54c7ec; color: #fff; font-weight: 700; padding-left: 10px; padding-top: 5px; padding-bottom: 5px\"><strong>NOTE:</strong></div>\n",
    "\n",
    "<div style=\"background-color: #f3f4f7; padding-left: 10px; padding-top: 10px; padding-bottom: 10px; padding-right: 10px\">\n",
    "\n",
    "<p>The following cell throws a run-time error. This is intentional.<pre><code>a =     torch.ones(4, 3, 2)</p>\n",
    "<p>b = a * torch.rand(4, 3)    # dimensions must match last-to-first</p>\n",
    "<p>c = a * torch.rand(   2, 3) # both 3rd &amp; 2nd dims different</p>\n",
    "<p>d = a * torch.rand((0, ))   # can&#x27;t broadcast with an empty tensor</code></pre></p>\n",
    "\n",
    "</div>\n",
    "\n"
   ]
  },
  {
   "cell_type": "markdown",
   "metadata": {},
   "source": [
    "### More Math with Tensors\n",
    "\n",
    "PyTorch tensors have over three hundred operations that can be performed\n",
    "on them.\n",
    "\n",
    "Here is a small sample from some of the major categories of operations:\n"
   ]
  },
  {
   "cell_type": "code",
   "execution_count": 16,
   "metadata": {
    "collapsed": false
   },
   "outputs": [
    {
     "name": "stdout",
     "output_type": "stream",
     "text": [
      "Common functions:\n",
      "tensor([[0.9955, 0.0110, 0.2285, 0.9767],\n",
      "        [0.0476, 0.4484, 0.8447, 0.1992]])\n",
      "tensor([[-0., -0., -0., 1.],\n",
      "        [-0., 1., -0., -0.]])\n",
      "tensor([[-1., -1., -1.,  0.],\n",
      "        [-1.,  0., -1., -1.]])\n",
      "tensor([[-0.5000, -0.0110, -0.2285,  0.5000],\n",
      "        [-0.0476,  0.4484, -0.5000, -0.1992]])\n",
      "\n",
      "Sine and arcsine:\n",
      "tensor([0.0000, 0.7854, 1.5708, 2.3562])\n",
      "tensor([0.0000, 0.7071, 1.0000, 0.7071])\n",
      "tensor([0.0000, 0.7854, 1.5708, 0.7854])\n",
      "\n",
      "Bitwise XOR:\n",
      "tensor([3, 2, 1])\n",
      "\n",
      "Broadcasted, element-wise equality comparison:\n",
      "tensor([[ True, False],\n",
      "        [False, False]])\n",
      "\n",
      "Reduction ops:\n",
      "tensor(4.)\n",
      "4.0\n",
      "tensor(2.5000)\n",
      "tensor(1.2910)\n",
      "tensor(24.)\n",
      "tensor([1, 2])\n",
      "\n",
      "Vectors & Matrices:\n",
      "tensor([ 0.,  0., -1.])\n",
      "tensor([[0.9877, 0.0352],\n",
      "        [0.0905, 0.4485]])\n",
      "tensor([[2.9632, 0.1057],\n",
      "        [0.2715, 1.3456]])\n",
      "torch.return_types.linalg_svd(\n",
      "U=tensor([[-0.9911, -0.1334],\n",
      "        [-0.1334,  0.9911]]),\n",
      "S=tensor([2.9865, 1.3255]),\n",
      "Vh=tensor([[-0.9955, -0.0952],\n",
      "        [-0.0952,  0.9955]]))\n"
     ]
    }
   ],
   "source": [
    "# common functions\n",
    "a = torch.rand(2, 4) * 2 - 1\n",
    "print('Common functions:')\n",
    "print(torch.abs(a))\n",
    "print(torch.ceil(a))\n",
    "print(torch.floor(a))\n",
    "print(torch.clamp(a, -0.5, 0.5))\n",
    "\n",
    "# trigonometric functions and their inverses\n",
    "angles = torch.tensor([0, math.pi / 4, math.pi / 2, 3 * math.pi / 4])\n",
    "sines = torch.sin(angles)\n",
    "inverses = torch.asin(sines)\n",
    "print('\\nSine and arcsine:')\n",
    "print(angles)\n",
    "print(sines)\n",
    "print(inverses)\n",
    "\n",
    "# bitwise operations\n",
    "print('\\nBitwise XOR:')\n",
    "b = torch.tensor([1, 5, 11])\n",
    "c = torch.tensor([2, 7, 10])\n",
    "print(torch.bitwise_xor(b, c))\n",
    "\n",
    "# comparisons:\n",
    "print('\\nBroadcasted, element-wise equality comparison:')\n",
    "d = torch.tensor([[1., 2.], [3., 4.]])\n",
    "e = torch.ones(1, 2)  # many comparison ops support broadcasting!\n",
    "print(torch.eq(d, e)) # returns a tensor of type bool\n",
    "\n",
    "# reductions:\n",
    "print('\\nReduction ops:')\n",
    "print(torch.max(d))        # returns a single-element tensor\n",
    "print(torch.max(d).item()) # extracts the value from the returned tensor\n",
    "print(torch.mean(d))       # average\n",
    "print(torch.std(d))        # standard deviation\n",
    "print(torch.prod(d))       # product of all numbers\n",
    "print(torch.unique(torch.tensor([1, 2, 1, 2, 1, 2]))) # filter unique elements\n",
    "\n",
    "# vector and linear algebra operations\n",
    "v1 = torch.tensor([1., 0., 0.])         # x unit vector\n",
    "v2 = torch.tensor([0., 1., 0.])         # y unit vector\n",
    "m1 = torch.rand(2, 2)                   # random matrix\n",
    "m2 = torch.tensor([[3., 0.], [0., 3.]]) # three times identity matrix\n",
    "\n",
    "print('\\nVectors & Matrices:')\n",
    "print(torch.linalg.cross(v2, v1)) # negative of z unit vector (v1 x v2 == -v2 x v1)\n",
    "print(m1)\n",
    "m3 = torch.linalg.matmul(m1, m2)\n",
    "print(m3)                  # 3 times m1\n",
    "print(torch.linalg.svd(m3))       # singular value decomposition"
   ]
  },
  {
   "cell_type": "markdown",
   "metadata": {},
   "source": [
    "This is a small sample of operations. For more details and the full\n",
    "inventory of math functions, have a look at the\n",
    "[documentation](https://pytorch.org/docs/stable/torch.html#math-operations).\n",
    "For more details and the full inventory of linear algebra operations,\n",
    "have a look at this\n",
    "[documentation](https://pytorch.org/docs/stable/linalg.html).\n",
    "\n",
    "### Altering Tensors in Place\n",
    "\n",
    "Most binary operations on tensors will return a third, new tensor. When\n",
    "we say `c = a * b` (where `a` and `b` are tensors), the new tensor `c`\n",
    "will occupy a region of memory distinct from the other tensors.\n",
    "\n",
    "There are times, though, that you may wish to alter a tensor in place\n",
    "-for example, if you're doing an element-wise computation where you can\n",
    "discard intermediate values. For this, most of the math functions have a\n",
    "version with an appended underscore (`_`) that will alter a tensor in\n",
    "place.\n",
    "\n",
    "For example:\n"
   ]
  },
  {
   "cell_type": "code",
   "execution_count": 17,
   "metadata": {
    "collapsed": false
   },
   "outputs": [
    {
     "name": "stdout",
     "output_type": "stream",
     "text": [
      "a:\n",
      "tensor([0.0000, 0.7854, 1.5708, 2.3562])\n",
      "tensor([0.0000, 0.7071, 1.0000, 0.7071])\n",
      "tensor([0.0000, 0.7854, 1.5708, 2.3562])\n",
      "\n",
      "b:\n",
      "tensor([0.0000, 0.7854, 1.5708, 2.3562])\n",
      "tensor([0.0000, 0.7071, 1.0000, 0.7071])\n",
      "tensor([0.0000, 0.7071, 1.0000, 0.7071])\n"
     ]
    }
   ],
   "source": [
    "a = torch.tensor([0, math.pi / 4, math.pi / 2, 3 * math.pi / 4])\n",
    "print('a:')\n",
    "print(a)\n",
    "print(torch.sin(a))   # this operation creates a new tensor in memory\n",
    "print(a)              # a has not changed\n",
    "\n",
    "b = torch.tensor([0, math.pi / 4, math.pi / 2, 3 * math.pi / 4])\n",
    "print('\\nb:')\n",
    "print(b)\n",
    "print(torch.sin_(b))  # note the underscore\n",
    "print(b)              # b has changed"
   ]
  },
  {
   "cell_type": "markdown",
   "metadata": {},
   "source": [
    "For arithmetic operations, there are functions that behave similarly:\n"
   ]
  },
  {
   "cell_type": "code",
   "execution_count": 18,
   "metadata": {
    "collapsed": false
   },
   "outputs": [
    {
     "name": "stdout",
     "output_type": "stream",
     "text": [
      "Before:\n",
      "tensor([[1., 1.],\n",
      "        [1., 1.]])\n",
      "tensor([[0.8740, 0.2526],\n",
      "        [0.6923, 0.7545]])\n",
      "\n",
      "After adding:\n",
      "tensor([[1.8740, 1.2526],\n",
      "        [1.6923, 1.7545]])\n",
      "tensor([[1.8740, 1.2526],\n",
      "        [1.6923, 1.7545]])\n",
      "tensor([[0.8740, 0.2526],\n",
      "        [0.6923, 0.7545]])\n",
      "\n",
      "After multiplying\n",
      "tensor([[0.7638, 0.0638],\n",
      "        [0.4793, 0.5693]])\n",
      "tensor([[0.7638, 0.0638],\n",
      "        [0.4793, 0.5693]])\n"
     ]
    }
   ],
   "source": [
    "a = torch.ones(2, 2)\n",
    "b = torch.rand(2, 2)\n",
    "\n",
    "print('Before:')\n",
    "print(a)\n",
    "print(b)\n",
    "print('\\nAfter adding:')\n",
    "print(a.add_(b))\n",
    "print(a)\n",
    "print(b)\n",
    "print('\\nAfter multiplying')\n",
    "print(b.mul_(b))\n",
    "print(b)"
   ]
  },
  {
   "cell_type": "markdown",
   "metadata": {},
   "source": [
    "Note that these in-place arithmetic functions are methods on the\n",
    "`torch.Tensor` object, not attached to the `torch` module like many\n",
    "other functions (e.g., `torch.sin()`). As you can see from `a.add_(b)`,\n",
    "*the calling tensor is the one that gets changed in place.*\n",
    "\n",
    "There is another option for placing the result of a computation in an\n",
    "existing, allocated tensor. Many of the methods and functions we've seen\n",
    "so far - including creation methods! - have an `out` argument that lets\n",
    "you specify a tensor to receive the output. If the `out` tensor is the\n",
    "correct shape and `dtype`, this can happen without a new memory\n",
    "allocation:\n"
   ]
  },
  {
   "cell_type": "code",
   "execution_count": 19,
   "metadata": {
    "collapsed": false
   },
   "outputs": [
    {
     "name": "stdout",
     "output_type": "stream",
     "text": [
      "tensor([[0., 0.],\n",
      "        [0., 0.]])\n",
      "tensor([[0.5299, 0.4925],\n",
      "        [1.1893, 0.5440]])\n",
      "tensor([[0.5183, 0.9807],\n",
      "        [0.6545, 0.4144]])\n"
     ]
    }
   ],
   "source": [
    "a = torch.rand(2, 2)\n",
    "b = torch.rand(2, 2)\n",
    "c = torch.zeros(2, 2)\n",
    "old_id = id(c)\n",
    "\n",
    "print(c)\n",
    "d = torch.matmul(a, b, out=c)\n",
    "print(c)                # contents of c have changed\n",
    "\n",
    "assert c is d           # test c & d are same object, not just containing equal values\n",
    "assert id(c) == old_id  # make sure that our new c is the same object as the old one\n",
    "\n",
    "torch.rand(2, 2, out=c) # works for creation too!\n",
    "print(c)                # c has changed again\n",
    "assert id(c) == old_id  # still the same object!"
   ]
  },
  {
   "cell_type": "markdown",
   "metadata": {},
   "source": [
    "### Copying Tensors\n",
    "\n",
    "As with any object in Python, assigning a tensor to a variable makes the\n",
    "variable a *label* of the tensor, and does not copy it. For example:\n"
   ]
  },
  {
   "cell_type": "code",
   "execution_count": 20,
   "metadata": {
    "collapsed": false
   },
   "outputs": [
    {
     "name": "stdout",
     "output_type": "stream",
     "text": [
      "tensor([[  1., 561.],\n",
      "        [  1.,   1.]])\n"
     ]
    }
   ],
   "source": [
    "a = torch.ones(2, 2)\n",
    "b = a\n",
    "\n",
    "a[0][1] = 561  # we change a...\n",
    "print(b)       # ...and b is also altered"
   ]
  },
  {
   "cell_type": "markdown",
   "metadata": {},
   "source": [
    "But what if you want a separate copy of the data to work on? The\n",
    "`clone()` method is there for you:\n"
   ]
  },
  {
   "cell_type": "code",
   "execution_count": 21,
   "metadata": {
    "collapsed": false
   },
   "outputs": [
    {
     "name": "stdout",
     "output_type": "stream",
     "text": [
      "tensor([[True, True],\n",
      "        [True, True]])\n",
      "tensor([[1., 1.],\n",
      "        [1., 1.]])\n"
     ]
    }
   ],
   "source": [
    "a = torch.ones(2, 2)\n",
    "b = a.clone()\n",
    "\n",
    "assert b is not a      # different objects in memory...\n",
    "print(torch.eq(a, b))  # ...but still with the same contents!\n",
    "\n",
    "a[0][1] = 561          # a changes...\n",
    "print(b)               # ...but b is still all ones"
   ]
  },
  {
   "cell_type": "markdown",
   "metadata": {},
   "source": [
    "**There is an important thing to be aware of when using\n",
    "\\`\\`clone()\\`\\`.** If your source tensor has autograd, enabled then so\n",
    "will the clone. **This will be covered more deeply in the video on\n",
    "autograd,** but if you want the light version of the details, continue\n",
    "on.\n",
    "\n",
    "*In many cases, this will be what you want.* For example, if your model\n",
    "has multiple computation paths in its `forward()` method, and *both* the\n",
    "original tensor and its clone contribute to the model's output, then to\n",
    "enable model learning you want autograd turned on for both tensors. If\n",
    "your source tensor has autograd enabled (which it generally will if it's\n",
    "a set of learning weights or derived from a computation involving the\n",
    "weights), then you'll get the result you want.\n",
    "\n",
    "On the other hand, if you're doing a computation where *neither* the\n",
    "original tensor nor its clone need to track gradients, then as long as\n",
    "the source tensor has autograd turned off, you're good to go.\n",
    "\n",
    "*There is a third case,* though: Imagine you're performing a computation\n",
    "in your model's `forward()` function, where gradients are turned on for\n",
    "everything by default, but you want to pull out some values mid-stream\n",
    "to generate some metrics. In this case, you *don't* want the cloned copy\n",
    "of your source tensor to track gradients - performance is improved with\n",
    "autograd's history tracking turned off. For this, you can use the\n",
    "`.detach()` method on the source tensor:\n"
   ]
  },
  {
   "cell_type": "code",
   "execution_count": 22,
   "metadata": {
    "collapsed": false
   },
   "outputs": [
    {
     "name": "stdout",
     "output_type": "stream",
     "text": [
      "tensor([[0.0696, 0.4648],\n",
      "        [0.4491, 0.6265]], requires_grad=True)\n",
      "tensor([[0.0696, 0.4648],\n",
      "        [0.4491, 0.6265]], grad_fn=<CloneBackward0>)\n",
      "tensor([[0.0696, 0.4648],\n",
      "        [0.4491, 0.6265]])\n",
      "tensor([[0.0696, 0.4648],\n",
      "        [0.4491, 0.6265]], requires_grad=True)\n"
     ]
    }
   ],
   "source": [
    "a = torch.rand(2, 2, requires_grad=True) # turn on autograd\n",
    "print(a)\n",
    "\n",
    "b = a.clone()\n",
    "print(b)\n",
    "\n",
    "c = a.detach().clone()\n",
    "print(c)\n",
    "\n",
    "print(a)"
   ]
  },
  {
   "cell_type": "markdown",
   "metadata": {},
   "source": [
    "What's happening here?\n",
    "\n",
    "-   We create `a` with `requires_grad=True` turned on. **We haven't\n",
    "    covered this optional argument yet, but will during the unit on\n",
    "    autograd.**\n",
    "-   When we print `a`, it informs us that the property\n",
    "    `requires_grad=True` - this means that autograd and computation\n",
    "    history tracking are turned on.\n",
    "-   We clone `a` and label it `b`. When we print `b`, we can see that\n",
    "    it's tracking its computation history - it has inherited `a`'s\n",
    "    autograd settings, and added to the computation history.\n",
    "-   We clone `a` into `c`, but we call `detach()` first.\n",
    "-   Printing `c`, we see no computation history, and no\n",
    "    `requires_grad=True`.\n",
    "\n",
    "The `detach()` method *detaches the tensor from its computation\n",
    "history.* It says, \"do whatever comes next as if autograd was off.\" It\n",
    "does this *without* changing `a` - you can see that when we print `a`\n",
    "again at the end, it retains its `requires_grad=True` property.\n",
    "\n",
    "### Moving to GPU\n",
    "\n",
    "One of the major advantages of PyTorch is its robust acceleration on\n",
    "CUDA-compatible Nvidia GPUs. (\"CUDA\" stands for *Compute Unified Device\n",
    "Architecture*, which is Nvidia's platform for parallel computing.) So\n",
    "far, everything we've done has been on CPU. How do we move to the faster\n",
    "hardware?\n",
    "\n",
    "First, we should check whether a GPU is available, with the\n",
    "`is_available()` method.\n",
    "\n",
    "<div style=\"background-color: #54c7ec; color: #fff; font-weight: 700; padding-left: 10px; padding-top: 5px; padding-bottom: 5px\"><strong>NOTE:</strong></div>\n",
    "\n",
    "<div style=\"background-color: #f3f4f7; padding-left: 10px; padding-top: 10px; padding-bottom: 10px; padding-right: 10px\">\n",
    "\n",
    "<p>If you do not have a CUDA-compatible GPU and CUDA driversinstalled, the executable cells in this section will not execute anyGPU-related code.</p>\n",
    "\n",
    "</div>\n",
    "\n"
   ]
  },
  {
   "cell_type": "code",
   "execution_count": 23,
   "metadata": {
    "collapsed": false
   },
   "outputs": [
    {
     "name": "stdout",
     "output_type": "stream",
     "text": [
      "Sorry, CPU only.\n"
     ]
    }
   ],
   "source": [
    "if torch.cuda.is_available():\n",
    "    print('We have a GPU!')\n",
    "else:\n",
    "    print('Sorry, CPU only.')"
   ]
  },
  {
   "cell_type": "markdown",
   "metadata": {},
   "source": [
    "Once we've determined that one or more GPUs is available, we need to put\n",
    "our data someplace where the GPU can see it. Your CPU does computation\n",
    "on data in your computer's RAM. Your GPU has dedicated memory attached\n",
    "to it. Whenever you want to perform a computation on a device, you must\n",
    "move *all* the data needed for that computation to memory accessible by\n",
    "that device. (Colloquially, \"moving the data to memory accessible by the\n",
    "GPU\" is shorted to, \"moving the data to the GPU\".)\n",
    "\n",
    "There are multiple ways to get your data onto your target device. You\n",
    "may do it at creation time:\n"
   ]
  },
  {
   "cell_type": "code",
   "execution_count": 24,
   "metadata": {
    "collapsed": false
   },
   "outputs": [
    {
     "name": "stdout",
     "output_type": "stream",
     "text": [
      "Sorry, CPU only.\n"
     ]
    }
   ],
   "source": [
    "if torch.cuda.is_available():\n",
    "    gpu_rand = torch.rand(2, 2, device='cuda')\n",
    "    print(gpu_rand)\n",
    "else:\n",
    "    print('Sorry, CPU only.')"
   ]
  },
  {
   "cell_type": "markdown",
   "metadata": {},
   "source": [
    "By default, new tensors are created on the CPU, so we have to specify\n",
    "when we want to create our tensor on the GPU with the optional `device`\n",
    "argument. You can see when we print the new tensor, PyTorch informs us\n",
    "which device it's on (if it's not on CPU).\n",
    "\n",
    "You can query the number of GPUs with `torch.cuda.device_count()`. If\n",
    "you have more than one GPU, you can specify them by index:\n",
    "`device='cuda:0'`, `device='cuda:1'`, etc.\n",
    "\n",
    "As a coding practice, specifying our devices everywhere with string\n",
    "constants is pretty fragile. In an ideal world, your code would perform\n",
    "robustly whether you're on CPU or GPU hardware. You can do this by\n",
    "creating a device handle that can be passed to your tensors instead of a\n",
    "string:\n"
   ]
  },
  {
   "cell_type": "code",
   "execution_count": 25,
   "metadata": {
    "collapsed": false
   },
   "outputs": [
    {
     "name": "stdout",
     "output_type": "stream",
     "text": [
      "Device: cpu\n",
      "tensor([[0.9411, 0.4922],\n",
      "        [0.5461, 0.5396]])\n"
     ]
    }
   ],
   "source": [
    "if torch.cuda.is_available():\n",
    "    my_device = torch.device('cuda')\n",
    "else:\n",
    "    my_device = torch.device('cpu')\n",
    "print('Device: {}'.format(my_device))\n",
    "\n",
    "x = torch.rand(2, 2, device=my_device)\n",
    "print(x)"
   ]
  },
  {
   "cell_type": "markdown",
   "metadata": {},
   "source": [
    "If you have an existing tensor living on one device, you can move it to\n",
    "another with the `to()` method. The following line of code creates a\n",
    "tensor on CPU, and moves it to whichever device handle you acquired in\n",
    "the previous cell.\n"
   ]
  },
  {
   "cell_type": "code",
   "execution_count": 26,
   "metadata": {
    "collapsed": false
   },
   "outputs": [],
   "source": [
    "y = torch.rand(2, 2)\n",
    "y = y.to(my_device)"
   ]
  },
  {
   "cell_type": "markdown",
   "metadata": {},
   "source": [
    "It is important to know that in order to do computation involving two or\n",
    "more tensors, *all of the tensors must be on the same device*. The\n",
    "following code will throw a runtime error, regardless of whether you\n",
    "have a GPU device available:\n",
    "\n",
    "``` {.python}\n",
    "x = torch.rand(2, 2)\n",
    "y = torch.rand(2, 2, device='gpu')\n",
    "z = x + y  # exception will be thrown\n",
    "```\n"
   ]
  },
  {
   "cell_type": "markdown",
   "metadata": {},
   "source": [
    "### Manipulating Tensor Shapes\n",
    "\n",
    "Sometimes, you'll need to change the shape of your tensor. Below, we'll\n",
    "look at a few common cases, and how to handle them.\n",
    "\n",
    "#### Changing the Number of Dimensions\n",
    "\n",
    "One case where you might need to change the number of dimensions is\n",
    "passing a single instance of input to your model. PyTorch models\n",
    "generally expect *batches* of input.\n",
    "\n",
    "For example, imagine having a model that works on 3 x 226 x 226 images\n",
    "-a 226-pixel square with 3 color channels. When you load and transform\n",
    "it, you'll get a tensor of shape `(3, 226, 226)`. Your model, though, is\n",
    "expecting input of shape `(N, 3, 226, 226)`, where `N` is the number of\n",
    "images in the batch. So how do you make a batch of one?\n"
   ]
  },
  {
   "cell_type": "code",
   "execution_count": 27,
   "metadata": {
    "collapsed": false
   },
   "outputs": [
    {
     "name": "stdout",
     "output_type": "stream",
     "text": [
      "torch.Size([3, 226, 226])\n",
      "torch.Size([1, 3, 226, 226])\n"
     ]
    }
   ],
   "source": [
    "a = torch.rand(3, 226, 226)\n",
    "b = a.unsqueeze(0)\n",
    "\n",
    "print(a.shape)\n",
    "print(b.shape)"
   ]
  },
  {
   "cell_type": "markdown",
   "metadata": {},
   "source": [
    "The `unsqueeze()` method adds a dimension of extent 1. `unsqueeze(0)`\n",
    "adds it as a new zeroth dimension - now you have a batch of one!\n",
    "\n",
    "So if that's *un*squeezing? What do we mean by squeezing? We're taking\n",
    "advantage of the fact that any dimension of extent 1 *does not* change\n",
    "the number of elements in the tensor.\n"
   ]
  },
  {
   "cell_type": "code",
   "execution_count": 28,
   "metadata": {
    "collapsed": false
   },
   "outputs": [
    {
     "name": "stdout",
     "output_type": "stream",
     "text": [
      "tensor([[[[[0.7349]]]]])\n"
     ]
    }
   ],
   "source": [
    "c = torch.rand(1, 1, 1, 1, 1)\n",
    "print(c)"
   ]
  },
  {
   "cell_type": "markdown",
   "metadata": {},
   "source": [
    "Continuing the example above, let's say the model's output is a\n",
    "20-element vector for each input. You would then expect the output to\n",
    "have shape `(N, 20)`, where `N` is the number of instances in the input\n",
    "batch. That means that for our single-input batch, we'll get an output\n",
    "of shape `(1, 20)`.\n",
    "\n",
    "What if you want to do some *non-batched* computation with that output\n",
    "-something that's just expecting a 20-element vector?\n"
   ]
  },
  {
   "cell_type": "code",
   "execution_count": 29,
   "metadata": {
    "collapsed": false
   },
   "outputs": [
    {
     "name": "stdout",
     "output_type": "stream",
     "text": [
      "torch.Size([1, 20])\n",
      "tensor([[0.7823, 0.8637, 0.1891, 0.3952, 0.9176, 0.8960, 0.4887, 0.8625, 0.6191,\n",
      "         0.9935, 0.1844, 0.6138, 0.6854, 0.0438, 0.0636, 0.2884, 0.4362, 0.2368,\n",
      "         0.1394, 0.1721]])\n",
      "torch.Size([20])\n",
      "tensor([0.7823, 0.8637, 0.1891, 0.3952, 0.9176, 0.8960, 0.4887, 0.8625, 0.6191,\n",
      "        0.9935, 0.1844, 0.6138, 0.6854, 0.0438, 0.0636, 0.2884, 0.4362, 0.2368,\n",
      "        0.1394, 0.1721])\n",
      "torch.Size([2, 2])\n",
      "torch.Size([2, 2])\n"
     ]
    }
   ],
   "source": [
    "a = torch.rand(1, 20)\n",
    "print(a.shape)\n",
    "print(a)\n",
    "\n",
    "b = a.squeeze(0)\n",
    "print(b.shape)\n",
    "print(b)\n",
    "\n",
    "c = torch.rand(2, 2)\n",
    "print(c.shape)\n",
    "\n",
    "d = c.squeeze(0)\n",
    "print(d.shape)"
   ]
  },
  {
   "cell_type": "markdown",
   "metadata": {},
   "source": [
    "You can see from the shapes that our 2-dimensional tensor is now\n",
    "1-dimensional, and if you look closely at the output of the cell above\n",
    "you'll see that printing `a` shows an \"extra\" set of square brackets\n",
    "`[]` due to having an extra dimension.\n",
    "\n",
    "You may only `squeeze()` dimensions of extent 1. See above where we try\n",
    "to squeeze a dimension of size 2 in `c`, and get back the same shape we\n",
    "started with. Calls to `squeeze()` and `unsqueeze()` can only act on\n",
    "dimensions of extent 1 because to do otherwise would change the number\n",
    "of elements in the tensor.\n",
    "\n",
    "Another place you might use `unsqueeze()` is to ease broadcasting.\n",
    "Recall the example above where we had the following code:\n",
    "\n",
    "``` {.python}\n",
    "a = torch.ones(4, 3, 2)\n",
    "\n",
    "c = a * torch.rand(   3, 1) # 3rd dim = 1, 2nd dim identical to a\n",
    "print(c)\n",
    "```\n",
    "\n",
    "The net effect of that was to broadcast the operation over dimensions 0\n",
    "and 2, causing the random, 3 x 1 tensor to be multiplied element-wise by\n",
    "every 3-element column in `a`.\n",
    "\n",
    "What if the random vector had just been 3-element vector? We'd lose the\n",
    "ability to do the broadcast, because the final dimensions would not\n",
    "match up according to the broadcasting rules. `unsqueeze()` comes to the\n",
    "rescue:\n"
   ]
  },
  {
   "cell_type": "code",
   "execution_count": 40,
   "metadata": {
    "collapsed": false
   },
   "outputs": [
    {
     "name": "stdout",
     "output_type": "stream",
     "text": [
      "tensor([0.4084, 0.3970, 0.8607])\n",
      "torch.Size([3, 1])\n",
      "tensor([[[0.4084, 0.4084],\n",
      "         [0.3970, 0.3970],\n",
      "         [0.8607, 0.8607]],\n",
      "\n",
      "        [[0.4084, 0.4084],\n",
      "         [0.3970, 0.3970],\n",
      "         [0.8607, 0.8607]],\n",
      "\n",
      "        [[0.4084, 0.4084],\n",
      "         [0.3970, 0.3970],\n",
      "         [0.8607, 0.8607]],\n",
      "\n",
      "        [[0.4084, 0.4084],\n",
      "         [0.3970, 0.3970],\n",
      "         [0.8607, 0.8607]]])\n"
     ]
    }
   ],
   "source": [
    "a = torch.ones(4, 3, 2)\n",
    "b = torch.rand(   3)     # trying to multiply a * b will give a runtime error\n",
    "print(b)\n",
    "c = b.unsqueeze(1)       # change to a 2-dimensional tensor, adding new dim at the end\n",
    "print(c.shape)\n",
    "print(a * c)             # broadcasting works again!"
   ]
  },
  {
   "cell_type": "markdown",
   "metadata": {},
   "source": [
    "The `squeeze()` and `unsqueeze()` methods also have in-place versions,\n",
    "`squeeze_()` and `unsqueeze_()`:\n"
   ]
  },
  {
   "cell_type": "code",
   "execution_count": 42,
   "metadata": {
    "collapsed": false
   },
   "outputs": [
    {
     "name": "stdout",
     "output_type": "stream",
     "text": [
      "torch.Size([3, 226, 226])\n",
      "torch.Size([1, 3, 226, 226])\n",
      "tensor([[[[0.8015, 0.2721, 0.0668,  ..., 0.8233, 0.7791, 0.1413],\n",
      "          [0.5373, 0.0961, 0.0816,  ..., 0.4574, 0.6400, 0.0606],\n",
      "          [0.4447, 0.1241, 0.1663,  ..., 0.4177, 0.8514, 0.9053],\n",
      "          ...,\n",
      "          [0.7053, 0.0897, 0.8082,  ..., 0.4174, 0.6594, 0.4704],\n",
      "          [0.2397, 0.9546, 0.7989,  ..., 0.3748, 0.8168, 0.0998],\n",
      "          [0.5082, 0.2464, 0.1459,  ..., 0.2319, 0.5689, 0.0838]],\n",
      "\n",
      "         [[0.0705, 0.9183, 0.4772,  ..., 0.5823, 0.7120, 0.1549],\n",
      "          [0.8686, 0.3161, 0.6862,  ..., 0.8122, 0.2626, 0.9888],\n",
      "          [0.2290, 0.0634, 0.7592,  ..., 0.6597, 0.0088, 0.9960],\n",
      "          ...,\n",
      "          [0.0131, 0.0844, 0.6889,  ..., 0.6049, 0.0069, 0.6035],\n",
      "          [0.8077, 0.3262, 0.5364,  ..., 0.8417, 0.7713, 0.8816],\n",
      "          [0.0309, 0.9623, 0.1334,  ..., 0.9367, 0.6626, 0.8406]],\n",
      "\n",
      "         [[0.2517, 0.7965, 0.5047,  ..., 0.1868, 0.2138, 0.2842],\n",
      "          [0.9688, 0.6702, 0.5767,  ..., 0.0491, 0.9695, 0.3225],\n",
      "          [0.4199, 0.8639, 0.8296,  ..., 0.3729, 0.3094, 0.3493],\n",
      "          ...,\n",
      "          [0.9128, 0.3973, 0.0707,  ..., 0.0593, 0.1954, 0.9786],\n",
      "          [0.1052, 0.7574, 0.0425,  ..., 0.3255, 0.8494, 0.5117],\n",
      "          [0.6651, 0.6468, 0.1725,  ..., 0.7782, 0.5157, 0.6711]]]])\n"
     ]
    }
   ],
   "source": [
    "batch_me = torch.rand(3, 226, 226)\n",
    "print(batch_me.shape)\n",
    "batch_me.unsqueeze_(0)\n",
    "print(batch_me.shape)\n",
    "print(batch_me)"
   ]
  },
  {
   "cell_type": "markdown",
   "metadata": {},
   "source": [
    "Sometimes you'll want to change the shape of a tensor more radically,\n",
    "while still preserving the number of elements and their contents. One\n",
    "case where this happens is at the interface between a convolutional\n",
    "layer of a model and a linear layer of the model - this is common in\n",
    "image classification models. A convolution kernel will yield an output\n",
    "tensor of shape *features x width x height,* but the following linear\n",
    "layer expects a 1-dimensional input. `reshape()` will do this for you,\n",
    "provided that the dimensions you request yield the same number of\n",
    "elements as the input tensor has:\n"
   ]
  },
  {
   "cell_type": "code",
   "execution_count": 45,
   "metadata": {
    "collapsed": false
   },
   "outputs": [
    {
     "name": "stdout",
     "output_type": "stream",
     "text": [
      "torch.Size([6, 20, 20])\n",
      "tensor([[[2.5992e-02, 4.0729e-01, 5.8757e-02,  ..., 8.0471e-01,\n",
      "          5.3257e-01, 5.0729e-01],\n",
      "         [9.6643e-01, 1.3561e-01, 8.6105e-01,  ..., 6.4388e-01,\n",
      "          2.9143e-01, 5.7332e-01],\n",
      "         [9.4762e-01, 8.4168e-02, 8.3906e-01,  ..., 3.2411e-01,\n",
      "          5.1960e-01, 8.8413e-01],\n",
      "         ...,\n",
      "         [4.2678e-01, 8.8286e-01, 6.7122e-01,  ..., 7.6845e-01,\n",
      "          2.0785e-01, 7.2476e-01],\n",
      "         [7.7540e-02, 8.2760e-01, 5.5843e-01,  ..., 6.1894e-01,\n",
      "          3.3371e-01, 2.0145e-01],\n",
      "         [8.3400e-01, 9.5304e-01, 6.1920e-01,  ..., 7.8263e-01,\n",
      "          7.4960e-01, 6.3354e-01]],\n",
      "\n",
      "        [[5.6892e-01, 6.2150e-01, 9.0335e-01,  ..., 8.1805e-01,\n",
      "          5.1241e-01, 4.2540e-01],\n",
      "         [5.6950e-01, 9.3065e-01, 7.5793e-01,  ..., 8.8222e-01,\n",
      "          3.9998e-01, 2.8208e-01],\n",
      "         [6.6586e-01, 4.4245e-01, 7.4440e-02,  ..., 4.6383e-01,\n",
      "          9.5544e-01, 9.1299e-01],\n",
      "         ...,\n",
      "         [6.7540e-01, 3.2257e-01, 3.2857e-01,  ..., 5.6955e-01,\n",
      "          5.1748e-01, 4.7481e-02],\n",
      "         [1.7224e-01, 5.5334e-01, 2.3645e-01,  ..., 1.4764e-01,\n",
      "          8.5815e-01, 3.3585e-01],\n",
      "         [6.8706e-01, 1.0372e-01, 8.2742e-01,  ..., 1.1609e-01,\n",
      "          2.3331e-01, 8.4230e-01]],\n",
      "\n",
      "        [[9.7198e-01, 9.2157e-01, 8.6644e-01,  ..., 6.5525e-01,\n",
      "          4.1011e-02, 1.4971e-02],\n",
      "         [4.0621e-02, 4.5020e-01, 8.5126e-01,  ..., 4.8491e-01,\n",
      "          5.6339e-01, 9.3458e-02],\n",
      "         [7.3181e-01, 5.0292e-02, 8.9345e-01,  ..., 6.3676e-01,\n",
      "          9.2343e-01, 9.0218e-01],\n",
      "         ...,\n",
      "         [3.8975e-02, 7.5197e-01, 9.3552e-02,  ..., 3.4789e-01,\n",
      "          8.5989e-01, 3.5011e-01],\n",
      "         [1.4796e-02, 4.8893e-01, 7.9356e-01,  ..., 2.8802e-01,\n",
      "          5.4808e-01, 2.3418e-01],\n",
      "         [5.2944e-01, 2.7251e-01, 7.1730e-01,  ..., 9.5372e-01,\n",
      "          9.4828e-01, 6.2357e-01]],\n",
      "\n",
      "        [[9.7499e-01, 9.4126e-01, 1.8122e-01,  ..., 5.5851e-01,\n",
      "          5.2198e-01, 3.1883e-01],\n",
      "         [8.6694e-02, 2.8268e-01, 3.0847e-01,  ..., 6.7937e-01,\n",
      "          6.4500e-01, 6.8239e-01],\n",
      "         [4.8496e-01, 2.8276e-01, 6.4236e-01,  ..., 5.0982e-01,\n",
      "          9.3762e-01, 6.7697e-01],\n",
      "         ...,\n",
      "         [1.7696e-01, 9.4402e-01, 7.2627e-01,  ..., 2.4887e-01,\n",
      "          5.2137e-03, 9.3447e-01],\n",
      "         [8.6063e-01, 4.3212e-01, 8.8107e-01,  ..., 3.1169e-01,\n",
      "          8.3102e-01, 5.7610e-01],\n",
      "         [3.8216e-01, 8.8003e-01, 8.6437e-01,  ..., 1.1233e-01,\n",
      "          8.2361e-01, 1.1812e-01]],\n",
      "\n",
      "        [[5.1069e-01, 2.6999e-01, 8.9303e-01,  ..., 5.2768e-01,\n",
      "          2.0400e-01, 6.9755e-01],\n",
      "         [2.4043e-01, 3.4761e-02, 8.3204e-01,  ..., 5.6728e-01,\n",
      "          8.6192e-01, 5.5828e-01],\n",
      "         [2.4251e-01, 3.5132e-01, 6.8658e-01,  ..., 7.8624e-01,\n",
      "          1.6381e-01, 6.0195e-02],\n",
      "         ...,\n",
      "         [4.0501e-01, 3.8947e-01, 9.3189e-01,  ..., 9.8447e-01,\n",
      "          6.9488e-01, 7.6593e-01],\n",
      "         [4.8582e-01, 6.8567e-01, 1.5303e-01,  ..., 8.1952e-01,\n",
      "          8.3604e-01, 8.2588e-01],\n",
      "         [5.3923e-01, 7.3684e-01, 8.0418e-01,  ..., 7.1305e-01,\n",
      "          4.5446e-01, 6.2106e-01]],\n",
      "\n",
      "        [[1.5389e-02, 4.9270e-01, 3.7663e-01,  ..., 7.1674e-02,\n",
      "          1.7314e-01, 8.1938e-02],\n",
      "         [1.1204e-03, 8.9914e-01, 1.2097e-01,  ..., 1.0943e-01,\n",
      "          9.9861e-01, 2.5812e-01],\n",
      "         [5.9103e-01, 8.1136e-01, 3.9885e-01,  ..., 8.8327e-01,\n",
      "          6.1464e-01, 1.8866e-01],\n",
      "         ...,\n",
      "         [4.8324e-01, 6.5387e-01, 9.8729e-01,  ..., 3.8062e-02,\n",
      "          2.2398e-01, 2.3836e-01],\n",
      "         [2.7347e-01, 6.9848e-01, 1.8499e-01,  ..., 6.9818e-02,\n",
      "          2.8457e-01, 9.7513e-01],\n",
      "         [2.9906e-01, 3.6019e-01, 4.9067e-04,  ..., 4.8880e-01,\n",
      "          3.5625e-01, 8.1408e-01]]])\n",
      "torch.Size([2400])\n",
      "tensor([0.0260, 0.4073, 0.0588,  ..., 0.4888, 0.3562, 0.8141])\n",
      "torch.Size([2400])\n"
     ]
    }
   ],
   "source": [
    "output3d = torch.rand(6, 20, 20)\n",
    "print(output3d.shape)\n",
    "print(output3d)\n",
    "\n",
    "input1d = output3d.reshape(6 * 20 * 20)\n",
    "print(input1d.shape)\n",
    "print(input1d)\n",
    "\n",
    "# can also call it as a method on the torch module:\n",
    "print(torch.reshape(output3d, (6 * 20 * 20,)).shape)"
   ]
  },
  {
   "cell_type": "markdown",
   "metadata": {},
   "source": [
    "<div style=\"background-color: #54c7ec; color: #fff; font-weight: 700; padding-left: 10px; padding-top: 5px; padding-bottom: 5px\"><strong>NOTE:</strong></div>\n",
    "\n",
    "<div style=\"background-color: #f3f4f7; padding-left: 10px; padding-top: 10px; padding-bottom: 10px; padding-right: 10px\">\n",
    "\n",
    "<p>The <code>(6 * 20 * 20,)</code> argument in the final line of the cell above is because PyTorch expects a  when specifying atensor shape - but when the shape is the first argument of a method, itlets us cheat and just use a series of integers. Here, we had to add theparentheses and comma to convince the method that this is really aone-element tuple.</p>\n",
    "\n",
    "</div>\n",
    "\n",
    "When it can, `reshape()` will return a *view* on the tensor to be\n",
    "changed - that is, a separate tensor object looking at the same\n",
    "underlying region of memory. *This is important:* That means any change\n",
    "made to the source tensor will be reflected in the view on that tensor,\n",
    "unless you `clone()` it.\n",
    "\n",
    "There *are* conditions, beyond the scope of this introduction, where\n",
    "`reshape()` has to return a tensor carrying a copy of the data. For more\n",
    "information, see the\n",
    "[docs](https://pytorch.org/docs/stable/torch.html#torch.reshape).\n"
   ]
  },
  {
   "cell_type": "markdown",
   "metadata": {},
   "source": [
    "### NumPy Bridge\n",
    "\n",
    "In the section above on broadcasting, it was mentioned that PyTorch's\n",
    "broadcast semantics are compatible with NumPy's - but the kinship\n",
    "between PyTorch and NumPy goes even deeper than that.\n",
    "\n",
    "If you have existing ML or scientific code with data stored in NumPy\n",
    "ndarrays, you may wish to express that same data as PyTorch tensors,\n",
    "whether to take advantage of PyTorch's GPU acceleration, or its\n",
    "efficient abstractions for building ML models. It's easy to switch\n",
    "between ndarrays and PyTorch tensors:\n"
   ]
  },
  {
   "cell_type": "code",
   "execution_count": 46,
   "metadata": {
    "collapsed": false
   },
   "outputs": [
    {
     "name": "stdout",
     "output_type": "stream",
     "text": [
      "[[1. 1. 1.]\n",
      " [1. 1. 1.]]\n",
      "tensor([[1., 1., 1.],\n",
      "        [1., 1., 1.]], dtype=torch.float64)\n"
     ]
    }
   ],
   "source": [
    "import numpy as np\n",
    "\n",
    "numpy_array = np.ones((2, 3))\n",
    "print(numpy_array)\n",
    "\n",
    "pytorch_tensor = torch.from_numpy(numpy_array)\n",
    "print(pytorch_tensor)"
   ]
  },
  {
   "cell_type": "markdown",
   "metadata": {},
   "source": [
    "PyTorch creates a tensor of the same shape and containing the same data\n",
    "as the NumPy array, going so far as to keep NumPy's default 64-bit float\n",
    "data type.\n",
    "\n",
    "The conversion can just as easily go the other way:\n"
   ]
  },
  {
   "cell_type": "code",
   "execution_count": 47,
   "metadata": {
    "collapsed": false
   },
   "outputs": [
    {
     "name": "stdout",
     "output_type": "stream",
     "text": [
      "tensor([[0.2848, 0.5918, 0.2809],\n",
      "        [0.0814, 0.5564, 0.8020]])\n",
      "[[0.2847857  0.5918422  0.28090876]\n",
      " [0.08142006 0.55643046 0.8020046 ]]\n"
     ]
    }
   ],
   "source": [
    "pytorch_rand = torch.rand(2, 3)\n",
    "print(pytorch_rand)\n",
    "\n",
    "numpy_rand = pytorch_rand.numpy()\n",
    "print(numpy_rand)"
   ]
  },
  {
   "cell_type": "markdown",
   "metadata": {},
   "source": [
    "It is important to know that these converted objects are using *the same\n",
    "underlying memory* as their source objects, meaning that changes to one\n",
    "are reflected in the other:\n"
   ]
  },
  {
   "cell_type": "code",
   "execution_count": 48,
   "metadata": {
    "collapsed": false
   },
   "outputs": [
    {
     "name": "stdout",
     "output_type": "stream",
     "text": [
      "tensor([[ 1.,  1.,  1.],\n",
      "        [ 1., 23.,  1.]], dtype=torch.float64)\n",
      "[[ 0.2847857   0.5918422   0.28090876]\n",
      " [ 0.08142006 17.          0.8020046 ]]\n"
     ]
    }
   ],
   "source": [
    "numpy_array[1, 1] = 23\n",
    "print(pytorch_tensor)\n",
    "\n",
    "pytorch_rand[1, 1] = 17\n",
    "print(numpy_rand)"
   ]
  }
 ],
 "metadata": {
  "kernelspec": {
   "display_name": "Python 3",
   "language": "python",
   "name": "python3"
  },
  "language_info": {
   "codemirror_mode": {
    "name": "ipython",
    "version": 3
   },
   "file_extension": ".py",
   "mimetype": "text/x-python",
   "name": "python",
   "nbconvert_exporter": "python",
   "pygments_lexer": "ipython3",
   "version": "3.13.1"
  }
 },
 "nbformat": 4,
 "nbformat_minor": 0
}
