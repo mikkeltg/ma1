{
 "cells": [
  {
   "cell_type": "markdown",
   "metadata": {},
   "source": [
    "# Mandatory Assignment 1\n",
    "\n",
    "#### Part I: Multi-layer Perceptron\n",
    "\n",
    "***\n",
    "\n",
    "Please see the description of the assignment in the README file (section 1) <br>\n",
    "**Guide notebook**: [material/nns_pytorch.ipynb](material/nns_pytorch.ipynb)\n",
    "\n",
    "Table of contents:\n",
    "1. Activate GPU\n",
    "2. Load data\n",
    "3. Inspect data\n",
    "4. Artificial neural network (**Where you will implement the ANN**)\n",
    "5. Training hyperparameters (**Where you will add training parameters**)\n",
    "6. Training\n",
    "7. Plot loss and accuracy\n",
    "8. Evaluate\n"
   ]
  },
  {
   "cell_type": "code",
   "execution_count": 1,
   "metadata": {},
   "outputs": [],
   "source": [
    "# auxilary imports\n",
    "import random\n",
    "import matplotlib.pyplot as plt\n",
    "import os\n",
    "from pathlib import Path\n",
    "\n",
    "# pytorch\n",
    "import torch\n",
    "import torch.nn as nn\n",
    "from torchvision import transforms\n",
    "import torch.nn.functional as F  # noqa"
   ]
  },
  {
   "cell_type": "markdown",
   "metadata": {},
   "source": [
    "First, a bit of a hack in case your IDE wants to run the notebook from /`assignment/` and not the project root folder `/ma1`. We need the working directory to be `/ma1` for local imports to work."
   ]
  },
  {
   "cell_type": "code",
   "execution_count": 2,
   "metadata": {},
   "outputs": [
    {
     "name": "stdout",
     "output_type": "stream",
     "text": [
      "Working directory set to: /Users/mikkel/Library/CloudStorage/OneDrive-Personligt/CBS/Cand Merc IT/2. Semester/AI and ML/mas/ma1\n"
     ]
    }
   ],
   "source": [
    "# Ensure the working directory is set to the \"ma1\" folder.\n",
    "while Path.cwd().name != \"ma1\" and \"ma1\" in str(Path.cwd()):\n",
    "    os.chdir(\"..\")  # Move up one directory\n",
    "print(f\"Working directory set to: {Path.cwd()}\")"
   ]
  },
  {
   "cell_type": "markdown",
   "metadata": {},
   "source": [
    "##### Import local files\n",
    "\n",
    "To declutter the notebooks, your are given a module (`/src`) of useful functions. Please study each one as they contain important code (particularly `src.training` and `src.evaluation`). "
   ]
  },
  {
   "cell_type": "code",
   "execution_count": 3,
   "metadata": {},
   "outputs": [],
   "source": [
    "# local files\n",
    "from src.utils import get_device\n",
    "from src.data import load_torch_data, to_dataloader, train_val_split\n",
    "from src.training import fit\n",
    "from src.evaluation import evaluate\n",
    "from src.visualize import plot_training_history"
   ]
  },
  {
   "cell_type": "markdown",
   "metadata": {},
   "source": [
    "### 1. Activate GPU\n",
    "If available. Note that this is not necessary, but it will speed up your training."
   ]
  },
  {
   "cell_type": "code",
   "execution_count": 4,
   "metadata": {},
   "outputs": [
    {
     "name": "stdout",
     "output_type": "stream",
     "text": [
      "Running pytorch version (2.5.1) with backend = mps\n"
     ]
    }
   ],
   "source": [
    "# Device will determine whether to run the training on GPU or CPU.\n",
    "DEVICE = get_device()"
   ]
  },
  {
   "cell_type": "markdown",
   "metadata": {},
   "source": [
    "### 2. Load data"
   ]
  },
  {
   "cell_type": "code",
   "execution_count": 5,
   "metadata": {},
   "outputs": [
    {
     "data": {
      "text/plain": [
       "'len(train_val)=60000, len(test)=10000'"
      ]
     },
     "execution_count": 5,
     "metadata": {},
     "output_type": "execute_result"
    }
   ],
   "source": [
    "# load the training/validation data\n",
    "train_val = load_torch_data(\n",
    "    dataset=\"MNIST\",\n",
    "    root = 'data',                     # The root directory where the dataset will be stored\n",
    "    download = True,                   # If the dataset is not found at root, it will be downloaded\n",
    "    train = True,                      # The train dataset (as opposed to the test dataset)\n",
    "    transform = transforms.ToTensor()  # transformations to be applied to the dataset (only cast to tensor)\n",
    ")\n",
    "\n",
    "# load the testing data\n",
    "test = load_torch_data(\n",
    "    dataset = \"MNIST\",\n",
    "    root = 'data',\n",
    "    download = True,\n",
    "    train = False,\n",
    "    transform = transforms.ToTensor()\n",
    ")\n",
    "\n",
    "f\"{len(train_val)=}, {len(test)=}\""
   ]
  },
  {
   "cell_type": "code",
   "execution_count": 6,
   "metadata": {},
   "outputs": [
    {
     "data": {
      "text/plain": [
       "'len(val)=12000, len(train)=48000'"
      ]
     },
     "execution_count": 6,
     "metadata": {},
     "output_type": "execute_result"
    }
   ],
   "source": [
    "# split training data in training and validation (just like train_test_split in sklearn)\n",
    "train, val = train_val_split(train_val, val_ratio=0.2, seed=42)\n",
    "\n",
    "f\"{len(val)=}, {len(train)=}\""
   ]
  },
  {
   "cell_type": "code",
   "execution_count": 7,
   "metadata": {},
   "outputs": [],
   "source": [
    "# create dataloders for easy batch loading during training\n",
    "train_loader = to_dataloader(train, batch_size = 64, shuffle = True)\n",
    "val_loader = to_dataloader(val, batch_size = 64, shuffle = False)\n",
    "test_loader = to_dataloader(test, batch_size = 64, shuffle = False)"
   ]
  },
  {
   "cell_type": "markdown",
   "metadata": {},
   "source": [
    "### 3. Inspect data"
   ]
  },
  {
   "cell_type": "code",
   "execution_count": 11,
   "metadata": {},
   "outputs": [
    {
     "name": "stdout",
     "output_type": "stream",
     "text": [
      "Default image shape: torch.Size([1, 28, 28])\n",
      "Reshaped image shape: torch.Size([28, 28])\n",
      "Total pixels: 784\n",
      "The label for this image: 0\n"
     ]
    },
    {
     "data": {
      "image/png": "[encoded data removed]",
      "text/plain": [
       "<Figure size 640x480 with 1 Axes>"
      ]
     },
     "metadata": {},
     "output_type": "display_data"
    }
   ],
   "source": [
    "# Pick a random example from the training set\n",
    "selection = random.randrange(len(train)-1)\n",
    "image, label = train[selection]\n",
    "\n",
    "# Plot the image\n",
    "print(f\"Default image shape: {image.shape}\")\n",
    "image = image.view([28,28])\n",
    "\n",
    "print(f\"Reshaped image shape: {image.shape}\")\n",
    "plt.imshow(image, cmap=\"gray\")\n",
    "\n",
    "print(f\"Total pixels: {image.shape[0] * image.shape[1]}\")\n",
    "\n",
    "# Print the label\n",
    "print(f\"The label for this image: {label}\")\n"
   ]
  },
  {
   "cell_type": "markdown",
   "metadata": {},
   "source": [
    "***\n",
    "\n",
    "### 4. Artificial neural network"
   ]
  },
  {
   "cell_type": "code",
   "execution_count": 21,
   "metadata": {},
   "outputs": [],
   "source": [
    "class MLP(nn.Module):\n",
    "\n",
    "  def __init__(self):\n",
    "    super().__init__()\n",
    "\n",
    "    # TODO: define layers\n",
    "    self.fc1 = nn.Linear(784, 500)\n",
    "    self.fc2 = nn.Linear(500, 10)\n",
    "  \n",
    "  def forward(self, x : torch.Tensor):\n",
    "\n",
    "    # TODO: define forward pass\n",
    "    x = self.fc1(x)\n",
    "    x = F.relu(x)\n",
    "    x = self.fc2(x)\n",
    "\n",
    "    return x"
   ]
  },
  {
   "cell_type": "markdown",
   "metadata": {},
   "source": [
    "### 5. Training hyperparameters"
   ]
  },
  {
   "cell_type": "code",
   "execution_count": 22,
   "metadata": {},
   "outputs": [],
   "source": [
    "LR = 0.01  # TODO: define the learning rate\n",
    "NUM_EPOCHS = 30 # TODO: define the number of epochs (i.e. passes over the dataset)\n",
    "criterion = nn.CrossEntropyLoss()  # The loss function"
   ]
  },
  {
   "cell_type": "markdown",
   "metadata": {},
   "source": [
    "Instantiate the model and optimizer"
   ]
  },
  {
   "cell_type": "code",
   "execution_count": 23,
   "metadata": {},
   "outputs": [],
   "source": [
    "model = MLP().to(DEVICE)   # Create an instance of the MLP model and move it to device (GPU or CPU)\n",
    "optimizer = torch.optim.SGD(model.parameters(), lr=LR) # The optimizer (here, SGD - you can also try ADAM)"
   ]
  },
  {
   "cell_type": "code",
   "execution_count": 24,
   "metadata": {},
   "outputs": [
    {
     "data": {
      "text/plain": [
       "MLP(\n",
       "  (fc1): Linear(in_features=784, out_features=500, bias=True)\n",
       "  (fc2): Linear(in_features=500, out_features=10, bias=True)\n",
       ")"
      ]
     },
     "execution_count": 24,
     "metadata": {},
     "output_type": "execute_result"
    }
   ],
   "source": [
    "model"
   ]
  },
  {
   "cell_type": "markdown",
   "metadata": {},
   "source": [
    "### 6. Training"
   ]
  },
  {
   "cell_type": "code",
   "execution_count": 25,
   "metadata": {},
   "outputs": [
    {
     "name": "stdout",
     "output_type": "stream",
     "text": [
      "Epoch [1/30]: Train Loss: 1.3096 | Train Accuracy: 75.56% | Val Loss: 0.6765 | Val Accuracy: 85.15%\n",
      "Epoch [2/30]: Train Loss: 0.5340 | Train Accuracy: 86.88% | Val Loss: 0.4646 | Val Accuracy: 87.80%\n",
      "Epoch [3/30]: Train Loss: 0.4153 | Train Accuracy: 88.89% | Val Loss: 0.4000 | Val Accuracy: 89.04%\n",
      "Epoch [4/30]: Train Loss: 0.3682 | Train Accuracy: 89.84% | Val Loss: 0.3685 | Val Accuracy: 89.64%\n",
      "Epoch [5/30]: Train Loss: 0.3407 | Train Accuracy: 90.48% | Val Loss: 0.3476 | Val Accuracy: 90.09%\n",
      "Epoch [6/30]: Train Loss: 0.3210 | Train Accuracy: 90.91% | Val Loss: 0.3333 | Val Accuracy: 90.57%\n",
      "Epoch [7/30]: Train Loss: 0.3059 | Train Accuracy: 91.38% | Val Loss: 0.3200 | Val Accuracy: 90.81%\n",
      "Epoch [8/30]: Train Loss: 0.2930 | Train Accuracy: 91.75% | Val Loss: 0.3079 | Val Accuracy: 91.08%\n",
      "Epoch [9/30]: Train Loss: 0.2814 | Train Accuracy: 92.07% | Val Loss: 0.2983 | Val Accuracy: 91.47%\n",
      "Epoch [10/30]: Train Loss: 0.2711 | Train Accuracy: 92.41% | Val Loss: 0.2890 | Val Accuracy: 91.62%\n",
      "Epoch [11/30]: Train Loss: 0.2615 | Train Accuracy: 92.70% | Val Loss: 0.2799 | Val Accuracy: 92.10%\n",
      "Epoch [12/30]: Train Loss: 0.2526 | Train Accuracy: 92.99% | Val Loss: 0.2712 | Val Accuracy: 92.33%\n",
      "Epoch [13/30]: Train Loss: 0.2439 | Train Accuracy: 93.24% | Val Loss: 0.2641 | Val Accuracy: 92.58%\n",
      "Epoch [14/30]: Train Loss: 0.2361 | Train Accuracy: 93.44% | Val Loss: 0.2565 | Val Accuracy: 92.67%\n",
      "Epoch [15/30]: Train Loss: 0.2288 | Train Accuracy: 93.64% | Val Loss: 0.2497 | Val Accuracy: 93.04%\n",
      "Epoch [16/30]: Train Loss: 0.2216 | Train Accuracy: 93.83% | Val Loss: 0.2428 | Val Accuracy: 93.34%\n",
      "Epoch [17/30]: Train Loss: 0.2150 | Train Accuracy: 93.98% | Val Loss: 0.2369 | Val Accuracy: 93.38%\n",
      "Epoch [18/30]: Train Loss: 0.2086 | Train Accuracy: 94.23% | Val Loss: 0.2310 | Val Accuracy: 93.62%\n",
      "Epoch [19/30]: Train Loss: 0.2026 | Train Accuracy: 94.37% | Val Loss: 0.2257 | Val Accuracy: 93.70%\n",
      "Epoch [20/30]: Train Loss: 0.1968 | Train Accuracy: 94.58% | Val Loss: 0.2204 | Val Accuracy: 93.82%\n",
      "Epoch [21/30]: Train Loss: 0.1912 | Train Accuracy: 94.71% | Val Loss: 0.2157 | Val Accuracy: 93.95%\n",
      "Epoch [22/30]: Train Loss: 0.1862 | Train Accuracy: 94.82% | Val Loss: 0.2100 | Val Accuracy: 93.99%\n",
      "Epoch [23/30]: Train Loss: 0.1813 | Train Accuracy: 94.98% | Val Loss: 0.2062 | Val Accuracy: 94.12%\n",
      "Epoch [24/30]: Train Loss: 0.1764 | Train Accuracy: 95.11% | Val Loss: 0.2012 | Val Accuracy: 94.19%\n",
      "Epoch [25/30]: Train Loss: 0.1719 | Train Accuracy: 95.23% | Val Loss: 0.1974 | Val Accuracy: 94.42%\n",
      "Epoch [26/30]: Train Loss: 0.1676 | Train Accuracy: 95.34% | Val Loss: 0.1932 | Val Accuracy: 94.54%\n",
      "Epoch [27/30]: Train Loss: 0.1633 | Train Accuracy: 95.43% | Val Loss: 0.1897 | Val Accuracy: 94.59%\n",
      "Epoch [28/30]: Train Loss: 0.1594 | Train Accuracy: 95.58% | Val Loss: 0.1858 | Val Accuracy: 94.65%\n",
      "Epoch [29/30]: Train Loss: 0.1557 | Train Accuracy: 95.69% | Val Loss: 0.1817 | Val Accuracy: 94.76%\n",
      "Epoch [30/30]: Train Loss: 0.1519 | Train Accuracy: 95.80% | Val Loss: 0.1791 | Val Accuracy: 94.77%\n"
     ]
    }
   ],
   "source": [
    "model, history = fit(\n",
    "    model,\n",
    "    train_loader = train_loader,\n",
    "    val_loader = val_loader,\n",
    "    device = DEVICE,\n",
    "    optimizer = optimizer,\n",
    "    criterion = criterion,\n",
    "    num_epochs = NUM_EPOCHS\n",
    ")"
   ]
  },
  {
   "cell_type": "markdown",
   "metadata": {},
   "source": [
    "### 7. Plot loss and accuracy"
   ]
  },
  {
   "cell_type": "code",
   "execution_count": 17,
   "metadata": {},
   "outputs": [
    {
     "data": {
      "image/png": "[encoded data removed]",
      "text/plain": [
       "<Figure size 1200x600 with 2 Axes>"
      ]
     },
     "metadata": {},
     "output_type": "display_data"
    }
   ],
   "source": [
    "plot_training_history(history)"
   ]
  },
  {
   "cell_type": "markdown",
   "metadata": {},
   "source": [
    "### 8. Evaluate"
   ]
  },
  {
   "cell_type": "code",
   "execution_count": 18,
   "metadata": {},
   "outputs": [
    {
     "name": "stdout",
     "output_type": "stream",
     "text": [
      "Evaluation Results:\n",
      "Loss: 0.1148, Accuracy: 96.74%\n",
      "\n",
      "Classification Report:\n",
      "              precision    recall  f1-score   support\n",
      "\n",
      "           0       0.98      0.99      0.98      4735\n",
      "           1       0.98      0.98      0.98      5383\n",
      "           2       0.97      0.96      0.97      4762\n",
      "           3       0.96      0.96      0.96      4886\n",
      "           4       0.96      0.97      0.96      4681\n",
      "           5       0.97      0.96      0.97      4368\n",
      "           6       0.97      0.98      0.98      4752\n",
      "           7       0.97      0.97      0.97      4983\n",
      "           8       0.97      0.94      0.95      4674\n",
      "           9       0.96      0.95      0.95      4776\n",
      "\n",
      "    accuracy                           0.97     48000\n",
      "   macro avg       0.97      0.97      0.97     48000\n",
      "weighted avg       0.97      0.97      0.97     48000\n",
      "\n"
     ]
    }
   ],
   "source": [
    "evaluate(\n",
    "    model = model,\n",
    "    data_loader = train_loader,  # evaluate on training data\n",
    "    criterion = criterion,\n",
    "    device = DEVICE,\n",
    ")"
   ]
  },
  {
   "cell_type": "code",
   "execution_count": 19,
   "metadata": {},
   "outputs": [
    {
     "name": "stdout",
     "output_type": "stream",
     "text": [
      "Evaluation Results:\n",
      "Loss: 0.1571, Accuracy: 95.42%\n",
      "\n",
      "Classification Report:\n",
      "              precision    recall  f1-score   support\n",
      "\n",
      "           0       0.96      0.97      0.97      1188\n",
      "           1       0.98      0.98      0.98      1359\n",
      "           2       0.96      0.94      0.95      1196\n",
      "           3       0.94      0.95      0.94      1245\n",
      "           4       0.94      0.96      0.95      1161\n",
      "           5       0.94      0.96      0.95      1053\n",
      "           6       0.97      0.97      0.97      1166\n",
      "           7       0.96      0.97      0.96      1282\n",
      "           8       0.96      0.93      0.95      1177\n",
      "           9       0.94      0.91      0.93      1173\n",
      "\n",
      "    accuracy                           0.95     12000\n",
      "   macro avg       0.95      0.95      0.95     12000\n",
      "weighted avg       0.95      0.95      0.95     12000\n",
      "\n"
     ]
    }
   ],
   "source": [
    "evaluate(\n",
    "    model = model,\n",
    "    data_loader = val_loader,  # evaluate on validation data\n",
    "    criterion = criterion,\n",
    "    device = DEVICE,\n",
    ")"
   ]
  },
  {
   "cell_type": "code",
   "execution_count": 20,
   "metadata": {},
   "outputs": [
    {
     "name": "stdout",
     "output_type": "stream",
     "text": [
      "Evaluation Results:\n",
      "Loss: 0.1352, Accuracy: 96.05%\n",
      "\n",
      "Classification Report:\n",
      "              precision    recall  f1-score   support\n",
      "\n",
      "           0       0.96      0.99      0.97       980\n",
      "           1       0.98      0.98      0.98      1135\n",
      "           2       0.97      0.96      0.96      1032\n",
      "           3       0.94      0.97      0.95      1010\n",
      "           4       0.95      0.97      0.96       982\n",
      "           5       0.97      0.95      0.96       892\n",
      "           6       0.95      0.96      0.96       958\n",
      "           7       0.96      0.96      0.96      1028\n",
      "           8       0.96      0.93      0.95       974\n",
      "           9       0.96      0.93      0.95      1009\n",
      "\n",
      "    accuracy                           0.96     10000\n",
      "   macro avg       0.96      0.96      0.96     10000\n",
      "weighted avg       0.96      0.96      0.96     10000\n",
      "\n"
     ]
    }
   ],
   "source": [
    "evaluate(\n",
    "    model = model,\n",
    "    data_loader = test_loader,  # evaluate on testing data\n",
    "    criterion = criterion,\n",
    "    device = DEVICE,\n",
    ")"
   ]
  },
  {
   "cell_type": "code",
   "execution_count": null,
   "metadata": {},
   "outputs": [],
   "source": []
  }
 ],
 "metadata": {
  "kernelspec": {
   "display_name": "Python 3",
   "language": "python",
   "name": "python3"
  },
  "language_info": {
   "codemirror_mode": {
    "name": "ipython",
    "version": 3
   },
   "file_extension": ".py",
   "mimetype": "text/x-python",
   "name": "python",
   "nbconvert_exporter": "python",
   "pygments_lexer": "ipython3",
   "version": "3.13.1"
  }
 },
 "nbformat": 4,
 "nbformat_minor": 2
}
